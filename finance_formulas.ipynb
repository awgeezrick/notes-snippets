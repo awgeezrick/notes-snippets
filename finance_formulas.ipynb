{
 "cells": [
  {
   "cell_type": "markdown",
   "metadata": {},
   "source": [
    "# Present Value Formulas\n",
    "\n",
    "## General\n",
    "$$ PV = \\frac{C_t}{(1+r)^t} $$\n",
    "<br><br>\n",
    "$$ DF_t = \\frac{1}{(1+r)^t} $$\n",
    "<br><br>\n",
    "$$ NPV = \\frac{C_0}{(1+r)^t} $$\n",
    "<br><br>\n",
    "$$ Return = \\frac{Profit}{Investment} $$\n",
    "<br><br>\n",
    "$$ DCF = PV = \\sum\\limits_{t=0}^n\\frac{C_t}{(1+r)^t} $$\n",
    "\n",
    "## Perpetuity\n",
    "\n",
    "$$ PV_{Perpetuity} = \\frac{D_1}{r} $$\n",
    "<br><br>\n",
    "$$ PV_\\text{Growing Perpetuity} = \\frac{D_1}{r-g} $$\n",
    "   - r = discount rate\n",
    "   - g = growth rate\n",
    "<br><br>\n",
    "$$ PV_\\text{Perpetuity Delayed} = $$\n",
    "<br><br>\n",
    "$$ PV_\\text{Perpetuity Delayed} = $$\n",
    "\n",
    "## Annuity\n",
    "\n",
    "$$ PV_\\text{Annuity} = C\\left[\\frac{1-(1+r)^n}{r}\\right] $$\n",
    "<br><br>\n",
    "$$ PV_\\text{Growing Annuity} = \\frac{P_1}{r-g} \\left [1-\\left(\\frac{1+g}{1+r}\\right)^n \\right] $$\n",
    "   - P = payment\n",
    "   - r = discount rate\n",
    "   - g = growth rate\n",
    "   - n = number of periods\n",
    "\n",
    "## Compounding Interest\n",
    "\n",
    "$$ PV_\\text{w/Continuous Compounding} = \\frac{C}{e^{rt}} $$\n",
    "\n",
    "   - \n"
   ]
  },
  {
   "cell_type": "markdown",
   "metadata": {},
   "source": [
    "# Future Value Formulas\n",
    "\n",
    "$$ FV_\\text{Compounding Interest} = $$\n",
    "<br><br>\n",
    "$$ FV_\\text{Continuous Compounding} = Ce^{rt} $$"
   ]
  },
  {
   "cell_type": "markdown",
   "metadata": {},
   "source": [
    "# Expected Value\n",
    "\n",
    "$$ EV = E[X] = \\sum\\limits_{i=0}^{k}x_i p_i $$"
   ]
  },
  {
   "cell_type": "code",
   "execution_count": null,
   "metadata": {
    "collapsed": true
   },
   "outputs": [],
   "source": []
  }
 ],
 "metadata": {
  "kernelspec": {
   "display_name": "Python 3",
   "language": "python",
   "name": "python3"
  },
  "language_info": {
   "codemirror_mode": {
    "name": "ipython",
    "version": 3
   },
   "file_extension": ".py",
   "mimetype": "text/x-python",
   "name": "python",
   "nbconvert_exporter": "python",
   "pygments_lexer": "ipython3",
   "version": "3.6.3"
  }
 },
 "nbformat": 4,
 "nbformat_minor": 2
}
